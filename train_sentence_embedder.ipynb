{
  "nbformat": 4,
  "nbformat_minor": 0,
  "metadata": {
    "colab": {
      "provenance": [],
      "mount_file_id": "1kWLaQcheJZMbNmSJdoLhLKi35Dq8EZ99",
      "authorship_tag": "ABX9TyPJNDQ4kQFIbvnlndlpUJGR",
      "include_colab_link": true
    },
    "kernelspec": {
      "name": "python3",
      "display_name": "Python 3"
    },
    "language_info": {
      "name": "python"
    },
    "accelerator": "GPU",
    "gpuClass": "standard"
  },
  "cells": [
    {
      "cell_type": "markdown",
      "metadata": {
        "id": "view-in-github",
        "colab_type": "text"
      },
      "source": [
        "<a href=\"https://colab.research.google.com/github/yongsun-yoon/multilingual-sentence-embedder/blob/main/train_sentence_embedder.ipynb\" target=\"_parent\"><img src=\"https://colab.research.google.com/assets/colab-badge.svg\" alt=\"Open In Colab\"/></a>"
      ]
    },
    {
      "cell_type": "markdown",
      "source": [
        "# Train"
      ],
      "metadata": {
        "id": "sduMIH-Sl2pm"
      }
    },
    {
      "cell_type": "markdown",
      "source": [
        "## 1. Setup"
      ],
      "metadata": {
        "id": "44oS62hQl4w-"
      }
    },
    {
      "cell_type": "code",
      "source": [
        "!pip install -q hydra-core transformers datasets wandb ctranslate2 sentencepiece"
      ],
      "metadata": {
        "id": "peyK6lKJl5Xl"
      },
      "execution_count": null,
      "outputs": []
    },
    {
      "cell_type": "code",
      "source": [
        "!git clone https://github.com/yongsun-yoon/multilingual-sentence-embedder.git\n",
        "%cd multilingual-sentence-embedder"
      ],
      "metadata": {
        "id": "j5Jir9VKJsM9"
      },
      "execution_count": null,
      "outputs": []
    },
    {
      "cell_type": "markdown",
      "source": [
        "## 2. Train"
      ],
      "metadata": {
        "id": "uU_RtdnuQBJR"
      }
    },
    {
      "cell_type": "markdown",
      "source": [
        "### train bilingual corpus"
      ],
      "metadata": {
        "id": "p4C8O4Y3ZVEx"
      }
    },
    {
      "cell_type": "code",
      "source": [
        "!python train_bilingual_corpus.py"
      ],
      "metadata": {
        "id": "Q4vcDI9HMkfM"
      },
      "execution_count": null,
      "outputs": []
    },
    {
      "cell_type": "markdown",
      "source": [
        "### train multilingual translated"
      ],
      "metadata": {
        "id": "RFCTrZo1ZWSN"
      }
    },
    {
      "cell_type": "code",
      "source": [
        "!ct2-transformers-converter --model facebook/nllb-200-distilled-600M --output_dir nllb-200-distilled-600M --quantization int8 --force"
      ],
      "metadata": {
        "id": "xbEr5G3HY87A"
      },
      "execution_count": null,
      "outputs": []
    },
    {
      "cell_type": "code",
      "source": [
        "!python train_multilingual_translated.py"
      ],
      "metadata": {
        "id": "N4KbzWvxZY5Y"
      },
      "execution_count": null,
      "outputs": []
    },
    {
      "cell_type": "markdown",
      "source": [
        "## 3. Push"
      ],
      "metadata": {
        "id": "UZggxrPhstg0"
      }
    },
    {
      "cell_type": "code",
      "source": [
        "from transformers import AutoModel, AutoTokenizer\n",
        "from sentence_embedder import SentenceEmbedderConfig, SentenceEmbedderModel"
      ],
      "metadata": {
        "id": "RZVnhkatFB5n"
      },
      "execution_count": null,
      "outputs": []
    },
    {
      "cell_type": "code",
      "source": [
        "SentenceEmbedderConfig.register_for_auto_class()\n",
        "SentenceEmbedderModel.register_for_auto_class(\"AutoModel\")"
      ],
      "metadata": {
        "id": "DGopIksRHRGz"
      },
      "execution_count": null,
      "outputs": []
    },
    {
      "cell_type": "code",
      "source": [
        "ckpt_dir = '/content/drive/MyDrive/project/multilingual-sentence-embedder/ckpt'\n",
        "tokenizer = AutoTokenizer.from_pretrained(ckpt_dir)\n",
        "model = SentenceEmbedderModel.from_pretrained(ckpt_dir)"
      ],
      "metadata": {
        "id": "l1dlTWmAHRT1"
      },
      "execution_count": null,
      "outputs": []
    },
    {
      "cell_type": "code",
      "source": [
        "!huggingface-cli login"
      ],
      "metadata": {
        "id": "TuTXcwpqFHnm"
      },
      "execution_count": null,
      "outputs": []
    },
    {
      "cell_type": "code",
      "source": [
        "hf_repo_name = \"bilingual-sentence-embedder-mMiniLMv2-L6-H384\"\n",
        "model.push_to_hub(hf_repo_name)\n",
        "tokenizer.push_to_hub(hf_repo_name)"
      ],
      "metadata": {
        "id": "IV2MJkgDGkJp"
      },
      "execution_count": null,
      "outputs": []
    },
    {
      "cell_type": "code",
      "source": [
        "tokenizer = AutoTokenizer.from_pretrained(f'yongsun-yoon/{hf_repo_name}')\n",
        "model = AutoModel.from_pretrained(f'yongsun-yoon/{hf_repo_name}', trust_remote_code=True)"
      ],
      "metadata": {
        "id": "UkyuO_YgHIB7"
      },
      "execution_count": null,
      "outputs": []
    },
    {
      "cell_type": "code",
      "source": [
        "model"
      ],
      "metadata": {
        "id": "bB6GgT5EIhD7"
      },
      "execution_count": null,
      "outputs": []
    },
    {
      "cell_type": "code",
      "source": [],
      "metadata": {
        "id": "vsfe9DWScaM-"
      },
      "execution_count": null,
      "outputs": []
    }
  ]
}